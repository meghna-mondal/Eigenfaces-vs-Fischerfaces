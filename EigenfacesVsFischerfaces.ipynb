{
  "nbformat": 4,
  "nbformat_minor": 0,
  "metadata": {
    "colab": {
      "name": "EigenfacesVsFischerfaces.ipynb",
      "provenance": [],
      "collapsed_sections": []
    },
    "kernelspec": {
      "name": "python3",
      "display_name": "Python 3"
    },
    "language_info": {
      "name": "python"
    }
  },
  "cells": [
    {
      "cell_type": "code",
      "execution_count": 1,
      "metadata": {
        "id": "sDbnHA01czlN"
      },
      "outputs": [],
      "source": [
        "#importing necessary packages\n",
        "import os\n",
        "import numpy as np\n",
        "import matplotlib.pyplot as plt\n",
        "from skimage.io import imread\n",
        "import pandas as pd     "
      ]
    },
    {
      "cell_type": "code",
      "source": [
        "from google.colab import drive\n",
        "drive.mount('/content/drive')"
      ],
      "metadata": {
        "id": "RnGvwKNxdBpr",
        "colab": {
          "base_uri": "https://localhost:8080/"
        },
        "outputId": "14f522de-6e90-46cd-ea1c-97f8e70309c5"
      },
      "execution_count": 2,
      "outputs": [
        {
          "output_type": "stream",
          "name": "stdout",
          "text": [
            "Mounted at /content/drive\n"
          ]
        }
      ]
    },
    {
      "cell_type": "markdown",
      "source": [
        "**Yales Dataset** \n",
        "* 15 classes (distinct people) and 11 images (distinct emotions) per class in dataset"
      ],
      "metadata": {
        "id": "vjiTBkZcN6b7"
      }
    },
    {
      "cell_type": "code",
      "source": [
        "os.listdir('/content/drive/MyDrive/yalefaces') "
      ],
      "metadata": {
        "id": "tFVjGmIEdQ76",
        "colab": {
          "base_uri": "https://localhost:8080/"
        },
        "outputId": "f7cf03e4-f5ab-427a-e841-6b0f25ddf657"
      },
      "execution_count": 3,
      "outputs": [
        {
          "output_type": "execute_result",
          "data": {
            "text/plain": [
              "['subject01.gif',\n",
              " 'subject01.glasses.gif',\n",
              " 'subject01.happy',\n",
              " 'subject01.noglasses',\n",
              " 'subject01.leftlight',\n",
              " 'subject01.normal',\n",
              " 'subject01.sad',\n",
              " 'subject01.rightlight',\n",
              " 'subject01.surprised',\n",
              " 'subject01.sleepy',\n",
              " 'subject01.wink',\n",
              " 'subject02.glasses',\n",
              " 'subject02.centerlight',\n",
              " 'subject02.happy',\n",
              " 'subject02.noglasses',\n",
              " 'subject02.leftlight',\n",
              " 'subject02.normal',\n",
              " 'subject02.rightlight',\n",
              " 'subject02.sad',\n",
              " 'subject02.sleepy',\n",
              " 'subject02.surprised',\n",
              " 'subject03.centerlight',\n",
              " 'subject02.wink',\n",
              " 'subject03.happy',\n",
              " 'subject03.glasses',\n",
              " 'subject03.leftlight',\n",
              " 'subject03.normal',\n",
              " 'subject03.noglasses',\n",
              " 'subject03.rightlight',\n",
              " 'subject03.sleepy',\n",
              " 'subject03.sad',\n",
              " 'subject03.surprised',\n",
              " 'subject03.wink',\n",
              " 'subject04.centerlight',\n",
              " 'subject04.glasses',\n",
              " 'subject04.happy',\n",
              " 'subject04.leftlight',\n",
              " 'subject04.noglasses',\n",
              " 'subject04.normal',\n",
              " 'subject04.rightlight',\n",
              " 'subject04.sleepy',\n",
              " 'subject04.surprised',\n",
              " 'subject04.wink',\n",
              " 'subject05.centerlight',\n",
              " 'subject05.happy',\n",
              " 'subject05.glasses',\n",
              " 'subject05.leftlight',\n",
              " 'subject05.noglasses',\n",
              " 'subject05.normal',\n",
              " 'subject05.rightlight',\n",
              " 'subject05.sleepy',\n",
              " 'subject05.sad',\n",
              " 'subject05.surprised',\n",
              " 'subject05.wink',\n",
              " 'subject06.centerlight',\n",
              " 'subject06.glasses',\n",
              " 'subject06.leftlight',\n",
              " 'subject06.happy',\n",
              " 'subject06.noglasses',\n",
              " 'subject06.rightlight',\n",
              " 'subject06.normal',\n",
              " 'subject06.sad',\n",
              " 'subject06.sleepy',\n",
              " 'subject06.surprised',\n",
              " 'subject06.wink',\n",
              " 'subject07.glasses',\n",
              " 'subject07.centerlight',\n",
              " 'subject07.happy',\n",
              " 'subject07.leftlight',\n",
              " 'subject07.noglasses',\n",
              " 'subject07.rightlight',\n",
              " 'subject07.normal',\n",
              " 'subject07.sad',\n",
              " 'subject07.sleepy',\n",
              " 'subject07.surprised',\n",
              " 'subject07.wink',\n",
              " 'subject08.centerlight',\n",
              " 'subject08.glasses',\n",
              " 'subject08.leftlight',\n",
              " 'subject08.happy',\n",
              " 'subject08.noglasses',\n",
              " 'subject08.normal',\n",
              " 'subject08.rightlight',\n",
              " 'subject08.sad',\n",
              " 'subject08.surprised',\n",
              " 'subject08.sleepy',\n",
              " 'subject08.wink',\n",
              " 'subject09.glasses',\n",
              " 'subject09.centerlight',\n",
              " 'subject09.happy',\n",
              " 'subject09.noglasses',\n",
              " 'subject09.leftlight',\n",
              " 'subject09.normal',\n",
              " 'subject09.rightlight',\n",
              " 'subject09.sad',\n",
              " 'subject09.sleepy',\n",
              " 'subject09.surprised',\n",
              " 'subject09.wink',\n",
              " 'subject10.glasses',\n",
              " 'subject10.centerlight',\n",
              " 'subject10.happy',\n",
              " 'subject10.noglasses',\n",
              " 'subject10.leftlight',\n",
              " 'subject10.normal',\n",
              " 'subject10.sad',\n",
              " 'subject10.rightlight',\n",
              " 'subject10.sleepy',\n",
              " 'subject10.wink',\n",
              " 'subject10.surprised',\n",
              " 'subject11.centerlight',\n",
              " 'subject11.glasses',\n",
              " 'subject11.happy',\n",
              " 'subject11.noglasses',\n",
              " 'subject11.leftlight',\n",
              " 'subject11.normal',\n",
              " 'subject11.sad',\n",
              " 'subject11.rightlight',\n",
              " 'subject11.sleepy',\n",
              " 'subject11.surprised',\n",
              " 'subject11.wink',\n",
              " 'subject12.centerlight',\n",
              " 'subject12.happy',\n",
              " 'subject12.glasses',\n",
              " 'subject12.leftlight',\n",
              " 'subject12.normal',\n",
              " 'subject12.noglasses',\n",
              " 'subject12.sad',\n",
              " 'subject12.rightlight',\n",
              " 'subject12.sleepy',\n",
              " 'subject12.wink',\n",
              " 'subject12.surprised',\n",
              " 'subject13.centerlight',\n",
              " 'subject13.glasses',\n",
              " 'subject13.happy',\n",
              " 'subject13.leftlight',\n",
              " 'subject13.noglasses',\n",
              " 'subject13.normal',\n",
              " 'subject13.rightlight',\n",
              " 'subject13.sleepy',\n",
              " 'subject13.sad',\n",
              " 'subject13.surprised',\n",
              " 'subject14.centerlight',\n",
              " 'subject13.wink',\n",
              " 'subject14.glasses',\n",
              " 'subject14.happy',\n",
              " 'subject14.leftlight',\n",
              " 'subject14.normal',\n",
              " 'subject14.noglasses',\n",
              " 'subject14.rightlight',\n",
              " 'subject14.sad',\n",
              " 'subject14.sleepy',\n",
              " 'subject14.wink',\n",
              " 'subject14.surprised',\n",
              " 'subject15.glasses',\n",
              " 'subject15.centerlight',\n",
              " 'subject15.happy',\n",
              " 'subject15.noglasses',\n",
              " 'subject15.leftlight',\n",
              " 'subject15.normal',\n",
              " 'subject15.rightlight',\n",
              " 'subject15.sad',\n",
              " 'subject15.sleepy',\n",
              " 'subject15.wink',\n",
              " 'subject15.surprised',\n",
              " 'subject04.sad']"
            ]
          },
          "metadata": {},
          "execution_count": 3
        }
      ]
    },
    {
      "cell_type": "code",
      "source": [
        "img_path = \"/content/drive/MyDrive/yalefaces\"\n",
        "img_path"
      ],
      "metadata": {
        "id": "C4GrIjx_dScY",
        "colab": {
          "base_uri": "https://localhost:8080/",
          "height": 35
        },
        "outputId": "394709c0-888d-49e5-ac04-f656984d0292"
      },
      "execution_count": 4,
      "outputs": [
        {
          "output_type": "execute_result",
          "data": {
            "text/plain": [
              "'/content/drive/MyDrive/yalefaces'"
            ],
            "application/vnd.google.colaboratory.intrinsic+json": {
              "type": "string"
            }
          },
          "metadata": {},
          "execution_count": 4
        }
      ]
    },
    {
      "cell_type": "code",
      "source": [
        "img_name = os.listdir('/content/drive/MyDrive/yalefaces') "
      ],
      "metadata": {
        "id": "LLcTFl57dWLp"
      },
      "execution_count": 5,
      "outputs": []
    },
    {
      "cell_type": "code",
      "source": [
        "len(img_name)"
      ],
      "metadata": {
        "id": "OZ4MlUKjdd-R",
        "colab": {
          "base_uri": "https://localhost:8080/"
        },
        "outputId": "cc151a33-75e4-46d9-b0d9-c38b00bec40d"
      },
      "execution_count": 6,
      "outputs": [
        {
          "output_type": "execute_result",
          "data": {
            "text/plain": [
              "165"
            ]
          },
          "metadata": {},
          "execution_count": 6
        }
      ]
    },
    {
      "cell_type": "code",
      "source": [
        "images = list(os.listdir(img_path))"
      ],
      "metadata": {
        "id": "3UYnuL1lvGQj"
      },
      "execution_count": 7,
      "outputs": []
    },
    {
      "cell_type": "code",
      "source": [
        "images.sort()\n",
        "images"
      ],
      "metadata": {
        "id": "5tD5QM88iPSH",
        "colab": {
          "base_uri": "https://localhost:8080/"
        },
        "outputId": "b243e27b-c629-4376-c3b9-03fddd280966"
      },
      "execution_count": 8,
      "outputs": [
        {
          "output_type": "execute_result",
          "data": {
            "text/plain": [
              "['subject01.gif',\n",
              " 'subject01.glasses.gif',\n",
              " 'subject01.happy',\n",
              " 'subject01.leftlight',\n",
              " 'subject01.noglasses',\n",
              " 'subject01.normal',\n",
              " 'subject01.rightlight',\n",
              " 'subject01.sad',\n",
              " 'subject01.sleepy',\n",
              " 'subject01.surprised',\n",
              " 'subject01.wink',\n",
              " 'subject02.centerlight',\n",
              " 'subject02.glasses',\n",
              " 'subject02.happy',\n",
              " 'subject02.leftlight',\n",
              " 'subject02.noglasses',\n",
              " 'subject02.normal',\n",
              " 'subject02.rightlight',\n",
              " 'subject02.sad',\n",
              " 'subject02.sleepy',\n",
              " 'subject02.surprised',\n",
              " 'subject02.wink',\n",
              " 'subject03.centerlight',\n",
              " 'subject03.glasses',\n",
              " 'subject03.happy',\n",
              " 'subject03.leftlight',\n",
              " 'subject03.noglasses',\n",
              " 'subject03.normal',\n",
              " 'subject03.rightlight',\n",
              " 'subject03.sad',\n",
              " 'subject03.sleepy',\n",
              " 'subject03.surprised',\n",
              " 'subject03.wink',\n",
              " 'subject04.centerlight',\n",
              " 'subject04.glasses',\n",
              " 'subject04.happy',\n",
              " 'subject04.leftlight',\n",
              " 'subject04.noglasses',\n",
              " 'subject04.normal',\n",
              " 'subject04.rightlight',\n",
              " 'subject04.sad',\n",
              " 'subject04.sleepy',\n",
              " 'subject04.surprised',\n",
              " 'subject04.wink',\n",
              " 'subject05.centerlight',\n",
              " 'subject05.glasses',\n",
              " 'subject05.happy',\n",
              " 'subject05.leftlight',\n",
              " 'subject05.noglasses',\n",
              " 'subject05.normal',\n",
              " 'subject05.rightlight',\n",
              " 'subject05.sad',\n",
              " 'subject05.sleepy',\n",
              " 'subject05.surprised',\n",
              " 'subject05.wink',\n",
              " 'subject06.centerlight',\n",
              " 'subject06.glasses',\n",
              " 'subject06.happy',\n",
              " 'subject06.leftlight',\n",
              " 'subject06.noglasses',\n",
              " 'subject06.normal',\n",
              " 'subject06.rightlight',\n",
              " 'subject06.sad',\n",
              " 'subject06.sleepy',\n",
              " 'subject06.surprised',\n",
              " 'subject06.wink',\n",
              " 'subject07.centerlight',\n",
              " 'subject07.glasses',\n",
              " 'subject07.happy',\n",
              " 'subject07.leftlight',\n",
              " 'subject07.noglasses',\n",
              " 'subject07.normal',\n",
              " 'subject07.rightlight',\n",
              " 'subject07.sad',\n",
              " 'subject07.sleepy',\n",
              " 'subject07.surprised',\n",
              " 'subject07.wink',\n",
              " 'subject08.centerlight',\n",
              " 'subject08.glasses',\n",
              " 'subject08.happy',\n",
              " 'subject08.leftlight',\n",
              " 'subject08.noglasses',\n",
              " 'subject08.normal',\n",
              " 'subject08.rightlight',\n",
              " 'subject08.sad',\n",
              " 'subject08.sleepy',\n",
              " 'subject08.surprised',\n",
              " 'subject08.wink',\n",
              " 'subject09.centerlight',\n",
              " 'subject09.glasses',\n",
              " 'subject09.happy',\n",
              " 'subject09.leftlight',\n",
              " 'subject09.noglasses',\n",
              " 'subject09.normal',\n",
              " 'subject09.rightlight',\n",
              " 'subject09.sad',\n",
              " 'subject09.sleepy',\n",
              " 'subject09.surprised',\n",
              " 'subject09.wink',\n",
              " 'subject10.centerlight',\n",
              " 'subject10.glasses',\n",
              " 'subject10.happy',\n",
              " 'subject10.leftlight',\n",
              " 'subject10.noglasses',\n",
              " 'subject10.normal',\n",
              " 'subject10.rightlight',\n",
              " 'subject10.sad',\n",
              " 'subject10.sleepy',\n",
              " 'subject10.surprised',\n",
              " 'subject10.wink',\n",
              " 'subject11.centerlight',\n",
              " 'subject11.glasses',\n",
              " 'subject11.happy',\n",
              " 'subject11.leftlight',\n",
              " 'subject11.noglasses',\n",
              " 'subject11.normal',\n",
              " 'subject11.rightlight',\n",
              " 'subject11.sad',\n",
              " 'subject11.sleepy',\n",
              " 'subject11.surprised',\n",
              " 'subject11.wink',\n",
              " 'subject12.centerlight',\n",
              " 'subject12.glasses',\n",
              " 'subject12.happy',\n",
              " 'subject12.leftlight',\n",
              " 'subject12.noglasses',\n",
              " 'subject12.normal',\n",
              " 'subject12.rightlight',\n",
              " 'subject12.sad',\n",
              " 'subject12.sleepy',\n",
              " 'subject12.surprised',\n",
              " 'subject12.wink',\n",
              " 'subject13.centerlight',\n",
              " 'subject13.glasses',\n",
              " 'subject13.happy',\n",
              " 'subject13.leftlight',\n",
              " 'subject13.noglasses',\n",
              " 'subject13.normal',\n",
              " 'subject13.rightlight',\n",
              " 'subject13.sad',\n",
              " 'subject13.sleepy',\n",
              " 'subject13.surprised',\n",
              " 'subject13.wink',\n",
              " 'subject14.centerlight',\n",
              " 'subject14.glasses',\n",
              " 'subject14.happy',\n",
              " 'subject14.leftlight',\n",
              " 'subject14.noglasses',\n",
              " 'subject14.normal',\n",
              " 'subject14.rightlight',\n",
              " 'subject14.sad',\n",
              " 'subject14.sleepy',\n",
              " 'subject14.surprised',\n",
              " 'subject14.wink',\n",
              " 'subject15.centerlight',\n",
              " 'subject15.glasses',\n",
              " 'subject15.happy',\n",
              " 'subject15.leftlight',\n",
              " 'subject15.noglasses',\n",
              " 'subject15.normal',\n",
              " 'subject15.rightlight',\n",
              " 'subject15.sad',\n",
              " 'subject15.sleepy',\n",
              " 'subject15.surprised',\n",
              " 'subject15.wink']"
            ]
          },
          "metadata": {},
          "execution_count": 8
        }
      ]
    },
    {
      "cell_type": "code",
      "source": [
        "# Checking the dimension of a image\n",
        "img = imread(os.path.join(img_path,'subject15.normal'))\n",
        "plt.imshow(img,cmap=plt.cm.gray)\n",
        "img.shape  "
      ],
      "metadata": {
        "colab": {
          "base_uri": "https://localhost:8080/",
          "height": 286
        },
        "id": "PYkdHzZVR7k6",
        "outputId": "cb98cc0d-a4eb-42b9-d066-d4ae0e12efd8"
      },
      "execution_count": 42,
      "outputs": [
        {
          "output_type": "execute_result",
          "data": {
            "text/plain": [
              "(243, 320)"
            ]
          },
          "metadata": {},
          "execution_count": 42
        },
        {
          "output_type": "display_data",
          "data": {
            "text/plain": [
              "<Figure size 432x288 with 1 Axes>"
            ],
            "image/png": "[encoded data removed]"
          },
          "metadata": {
            "needs_background": "light"
          }
        }
      ]
    },
    {
      "cell_type": "code",
      "source": [
        "all_images = []\n",
        "for img in images:\n",
        "    image_matrix = imread(os.path.join(img_path,img))\n",
        "    image=image_matrix.flatten()                              #converting the images to a column vector of dimension 243*320 = 77760\n",
        "    all_images.append(image)"
      ],
      "metadata": {
        "id": "rWJxYUMqiZeQ"
      },
      "execution_count": 9,
      "outputs": []
    },
    {
      "cell_type": "code",
      "source": [
        "X=np.array(all_images)"
      ],
      "metadata": {
        "id": "-QPul1It-tSv"
      },
      "execution_count": 10,
      "outputs": []
    },
    {
      "cell_type": "code",
      "source": [
        "average_img = np.array(X.mean(0))\n",
        "average_img = np.reshape(average_img,(243,320))"
      ],
      "metadata": {
        "id": "MPSk50LLdTnW"
      },
      "execution_count": 51,
      "outputs": []
    },
    {
      "cell_type": "code",
      "source": [
        "plt.imshow(average_img,cmap='gray')     #Average Image with which we are standardising"
      ],
      "metadata": {
        "colab": {
          "base_uri": "https://localhost:8080/",
          "height": 286
        },
        "id": "aH-jw0Mtdjo1",
        "outputId": "1736ed79-2ac9-41c7-a8b4-28715e41ff48"
      },
      "execution_count": 52,
      "outputs": [
        {
          "output_type": "execute_result",
          "data": {
            "text/plain": [
              "<matplotlib.image.AxesImage at 0x7f7c75750f90>"
            ]
          },
          "metadata": {},
          "execution_count": 52
        },
        {
          "output_type": "display_data",
          "data": {
            "text/plain": [
              "<Figure size 432x288 with 1 Axes>"
            ],
            "image/png": "[encoded data removed]"
          },
          "metadata": {
            "needs_background": "light"
          }
        }
      ]
    },
    {
      "cell_type": "code",
      "source": [
        "label=[]\n",
        "for i in range(15):\n",
        "  label.extend(11*[i])                                        #creating the Y labels"
      ],
      "metadata": {
        "id": "bWESALkB-y-U"
      },
      "execution_count": 11,
      "outputs": []
    },
    {
      "cell_type": "code",
      "source": [
        "Y=np.array(label)"
      ],
      "metadata": {
        "id": "0hfACWwq_05R"
      },
      "execution_count": 12,
      "outputs": []
    },
    {
      "cell_type": "code",
      "source": [
        "X.shape,Y.shape"
      ],
      "metadata": {
        "colab": {
          "base_uri": "https://localhost:8080/"
        },
        "id": "6MIyV6NTBHRn",
        "outputId": "c8fcdb70-3e28-41e8-d752-1424e024e6c4"
      },
      "execution_count": 13,
      "outputs": [
        {
          "output_type": "execute_result",
          "data": {
            "text/plain": [
              "((165, 77760), (165,))"
            ]
          },
          "metadata": {},
          "execution_count": 13
        }
      ]
    },
    {
      "cell_type": "code",
      "source": [
        "#spliting in train test set\n",
        "from sklearn.model_selection import train_test_split\n",
        "X_train_unstandardised, X_test_unstandardised, y_train, y_test = train_test_split(X, Y, test_size=0.09, random_state=42)"
      ],
      "metadata": {
        "id": "3Br4eAbOCQtU"
      },
      "execution_count": 14,
      "outputs": []
    },
    {
      "cell_type": "code",
      "source": [
        "X_train_unstandardised.shape,X_test_unstandardised.shape,y_train.shape,y_test.shape"
      ],
      "metadata": {
        "colab": {
          "base_uri": "https://localhost:8080/"
        },
        "id": "7kiFz3C3ClQH",
        "outputId": "270e222b-6da0-4a32-c007-bee9058eb63a"
      },
      "execution_count": 15,
      "outputs": [
        {
          "output_type": "execute_result",
          "data": {
            "text/plain": [
              "((150, 77760), (15, 77760), (150,), (15,))"
            ]
          },
          "metadata": {},
          "execution_count": 15
        }
      ]
    },
    {
      "cell_type": "markdown",
      "source": [
        "**Standardisation**"
      ],
      "metadata": {
        "id": "n7brFc_TrE2A"
      }
    },
    {
      "cell_type": "code",
      "source": [
        "from sklearn.preprocessing import StandardScaler\n",
        "sc = StandardScaler()\n",
        "X_train = sc.fit_transform(X_train_unstandardised)\n",
        "X_test = sc.transform (X_test_unstandardised)\n",
        "np.round(X_train.mean(0)),np.round(X_train.var(0)),np.round(X_test.mean(0)),np.round(X_test.var(0))"
      ],
      "metadata": {
        "id": "yIt-ijVKNNUY",
        "outputId": "5f84433c-a4c9-4724-8f63-71f1c00c9d28",
        "colab": {
          "base_uri": "https://localhost:8080/"
        }
      },
      "execution_count": 16,
      "outputs": [
        {
          "output_type": "execute_result",
          "data": {
            "text/plain": [
              "(array([0., 0., 0., ..., 0., 0., 0.]),\n",
              " array([1., 1., 1., ..., 0., 0., 0.]),\n",
              " array([0., 0., 0., ..., 0., 0., 0.]),\n",
              " array([0., 0., 0., ..., 0., 0., 0.]))"
            ]
          },
          "metadata": {},
          "execution_count": 16
        }
      ]
    },
    {
      "cell_type": "code",
      "source": [
        "X_train.shape,X_test.shape,y_train.shape,y_test.shape"
      ],
      "metadata": {
        "colab": {
          "base_uri": "https://localhost:8080/"
        },
        "id": "UqMbjXlVNpuP",
        "outputId": "74b15587-824e-4623-b719-4f37301ecbdc"
      },
      "execution_count": 17,
      "outputs": [
        {
          "output_type": "execute_result",
          "data": {
            "text/plain": [
              "((150, 77760), (15, 77760), (150,), (15,))"
            ]
          },
          "metadata": {},
          "execution_count": 17
        }
      ]
    },
    {
      "cell_type": "markdown",
      "source": [
        "**Correlation**"
      ],
      "metadata": {
        "id": "lrVgh_4alAGP"
      }
    },
    {
      "cell_type": "code",
      "source": [
        "from sklearn.neighbors import KNeighborsClassifier\n",
        "neigh_correlation = KNeighborsClassifier(n_neighbors=15)\n",
        "neigh_correlation.fit(X_train,y_train)"
      ],
      "metadata": {
        "colab": {
          "base_uri": "https://localhost:8080/"
        },
        "id": "u5E_wLOSk9mR",
        "outputId": "9553fe67-2a70-44f1-cd72-97abfaf8e717"
      },
      "execution_count": 18,
      "outputs": [
        {
          "output_type": "execute_result",
          "data": {
            "text/plain": [
              "KNeighborsClassifier(n_neighbors=15)"
            ]
          },
          "metadata": {},
          "execution_count": 18
        }
      ]
    },
    {
      "cell_type": "code",
      "source": [
        "correlation_predictions=neigh_correlation.predict(X_test)"
      ],
      "metadata": {
        "id": "S6jb07Zmk9i6"
      },
      "execution_count": 19,
      "outputs": []
    },
    {
      "cell_type": "code",
      "source": [
        "correlation_accuracy=sum((correlation_predictions-y_test)==0)/len(correlation_predictions-y_test)\n",
        "correlation_accuracy"
      ],
      "metadata": {
        "colab": {
          "base_uri": "https://localhost:8080/"
        },
        "id": "4yJ-vkjUk9gq",
        "outputId": "e47d981e-bf95-4ed2-8f8a-1ef8d1c6b81d"
      },
      "execution_count": 20,
      "outputs": [
        {
          "output_type": "execute_result",
          "data": {
            "text/plain": [
              "0.6"
            ]
          },
          "metadata": {},
          "execution_count": 20
        }
      ]
    },
    {
      "cell_type": "markdown",
      "source": [
        "**Eigenface PCA**"
      ],
      "metadata": {
        "id": "SQumvDogyQ4n"
      }
    },
    {
      "cell_type": "code",
      "source": [
        "from sklearn.decomposition import PCA\n",
        "pca_eigenface = PCA(n_components=30)\n",
        "X_train_PCA_eigenface = pca_eigenface.fit_transform(X_train)\n",
        "X_test_PCA_eigenface = pca_eigenface.transform(X_test)"
      ],
      "metadata": {
        "id": "NUAU_7HJxGjG"
      },
      "execution_count": 21,
      "outputs": []
    },
    {
      "cell_type": "code",
      "source": [
        "X_train_PCA_eigenface.shape"
      ],
      "metadata": {
        "colab": {
          "base_uri": "https://localhost:8080/"
        },
        "id": "ol97FG63yGA9",
        "outputId": "0ce40efd-294f-4928-d039-650de4c5a9fd"
      },
      "execution_count": 22,
      "outputs": [
        {
          "output_type": "execute_result",
          "data": {
            "text/plain": [
              "(150, 30)"
            ]
          },
          "metadata": {},
          "execution_count": 22
        }
      ]
    },
    {
      "cell_type": "code",
      "source": [
        "from sklearn.neighbors import KNeighborsClassifier\n",
        "neigh_eigenface = KNeighborsClassifier(n_neighbors=15)\n",
        "neigh_eigenface.fit(X_train_PCA_eigenface,y_train)"
      ],
      "metadata": {
        "colab": {
          "base_uri": "https://localhost:8080/"
        },
        "id": "Kn_HHPL5yF9f",
        "outputId": "e99f0915-dd2d-475c-ba15-50bd9ce2db3f"
      },
      "execution_count": 23,
      "outputs": [
        {
          "output_type": "execute_result",
          "data": {
            "text/plain": [
              "KNeighborsClassifier(n_neighbors=15)"
            ]
          },
          "metadata": {},
          "execution_count": 23
        }
      ]
    },
    {
      "cell_type": "code",
      "source": [
        "eigenface_predictions=neigh_eigenface.predict(X_test_PCA_eigenface)"
      ],
      "metadata": {
        "id": "eLMVxAOeyF7O"
      },
      "execution_count": 24,
      "outputs": []
    },
    {
      "cell_type": "code",
      "source": [
        "eigenface_accuracy=sum((eigenface_predictions-y_test)==0)/len(eigenface_predictions-y_test)\n",
        "eigenface_accuracy"
      ],
      "metadata": {
        "colab": {
          "base_uri": "https://localhost:8080/"
        },
        "id": "OsxYBi8LyKv5",
        "outputId": "2ef3c00b-e2cc-47ce-9bec-0716e30199da"
      },
      "execution_count": 25,
      "outputs": [
        {
          "output_type": "execute_result",
          "data": {
            "text/plain": [
              "0.8"
            ]
          },
          "metadata": {},
          "execution_count": 25
        }
      ]
    },
    {
      "cell_type": "markdown",
      "source": [
        "Eigenface PCA updated"
      ],
      "metadata": {
        "id": "hd0zqPvIzd1A"
      }
    },
    {
      "cell_type": "code",
      "source": [
        "from sklearn.decomposition import PCA\n",
        "pca_eigenface_updated = PCA(n_components=3)\n",
        "X_train_PCA_eigenface = pca_eigenface.fit_transform(X_train)\n",
        "X_test_PCA_eigenface = pca_eigenface.transform(X_test)"
      ],
      "metadata": {
        "id": "Hh74ChvhziCu"
      },
      "execution_count": 26,
      "outputs": []
    },
    {
      "cell_type": "code",
      "source": [
        "X_train_PCA_eigenface.shape"
      ],
      "metadata": {
        "id": "u5cKIGMrzipz",
        "outputId": "b3f452dd-d880-482d-bf54-acb6e04c9539",
        "colab": {
          "base_uri": "https://localhost:8080/"
        }
      },
      "execution_count": 27,
      "outputs": [
        {
          "output_type": "execute_result",
          "data": {
            "text/plain": [
              "(150, 30)"
            ]
          },
          "metadata": {},
          "execution_count": 27
        }
      ]
    },
    {
      "cell_type": "code",
      "source": [
        "from sklearn.neighbors import KNeighborsClassifier\n",
        "neigh_eigenface = KNeighborsClassifier(n_neighbors=15)\n",
        "neigh_eigenface.fit(X_train_PCA_eigenface,y_train)"
      ],
      "metadata": {
        "id": "UCIXCHW-zimV",
        "outputId": "ad518de7-465c-40d3-c837-f1e462277d65",
        "colab": {
          "base_uri": "https://localhost:8080/"
        }
      },
      "execution_count": 28,
      "outputs": [
        {
          "output_type": "execute_result",
          "data": {
            "text/plain": [
              "KNeighborsClassifier(n_neighbors=15)"
            ]
          },
          "metadata": {},
          "execution_count": 28
        }
      ]
    },
    {
      "cell_type": "code",
      "source": [
        "eigenface_predictions=neigh_eigenface.predict(X_test_PCA_eigenface)"
      ],
      "metadata": {
        "id": "MGSuHgx0zikA"
      },
      "execution_count": 29,
      "outputs": []
    },
    {
      "cell_type": "code",
      "source": [
        "eigenface_accuracy=sum((eigenface_predictions-y_test)==0)/len(eigenface_predictions-y_test)\n",
        "eigenface_accuracy"
      ],
      "metadata": {
        "id": "cJgQMD6ezih-",
        "outputId": "c69e3475-d912-4ee1-9eee-c07c41901dc8",
        "colab": {
          "base_uri": "https://localhost:8080/"
        }
      },
      "execution_count": 30,
      "outputs": [
        {
          "output_type": "execute_result",
          "data": {
            "text/plain": [
              "0.8"
            ]
          },
          "metadata": {},
          "execution_count": 30
        }
      ]
    },
    {
      "cell_type": "markdown",
      "source": [
        "**Fisherface_PCA**"
      ],
      "metadata": {
        "id": "ynkFNP2YyYd6"
      }
    },
    {
      "cell_type": "code",
      "source": [
        "from sklearn.decomposition import PCA\n",
        "pca = PCA(n_components=135)\n",
        "X_train_PCA = pca.fit_transform(X_train)\n",
        "X_test_PCA = pca.transform(X_test)"
      ],
      "metadata": {
        "id": "dHJIdQiiF71F"
      },
      "execution_count": 31,
      "outputs": []
    },
    {
      "cell_type": "code",
      "source": [
        "X_train_PCA.shape"
      ],
      "metadata": {
        "colab": {
          "base_uri": "https://localhost:8080/"
        },
        "id": "JOFv_PoQF7sp",
        "outputId": "8e10885a-ec67-495f-aa0c-dc9bc1153a23"
      },
      "execution_count": 32,
      "outputs": [
        {
          "output_type": "execute_result",
          "data": {
            "text/plain": [
              "(150, 135)"
            ]
          },
          "metadata": {},
          "execution_count": 32
        }
      ]
    },
    {
      "cell_type": "markdown",
      "source": [
        "Eigenface_PCA(extra - 135 PCA)"
      ],
      "metadata": {
        "id": "3hQo52pSylI7"
      }
    },
    {
      "cell_type": "code",
      "source": [
        "# from sklearn.neighbors import KNeighborsClassifier\n",
        "# neigh_eigen = KNeighborsClassifier(n_neighbors=15)\n",
        "# neigh_eigen.fit(X_train_PCA,y_train)"
      ],
      "metadata": {
        "id": "tYorcOEEW70x"
      },
      "execution_count": 33,
      "outputs": []
    },
    {
      "cell_type": "code",
      "source": [
        "# eigenface_prediction=neigh_eigen.predict(X_test_PCA)"
      ],
      "metadata": {
        "id": "pYgQ4c19W7xL"
      },
      "execution_count": 34,
      "outputs": []
    },
    {
      "cell_type": "code",
      "source": [
        "# eigenface_accuracy=sum((eigenface_prediction-y_test)==0)/len(eigenface_prediction-y_test)\n",
        "# eigenface_accuracy"
      ],
      "metadata": {
        "id": "eCnV8LYxXSVd"
      },
      "execution_count": 35,
      "outputs": []
    },
    {
      "cell_type": "markdown",
      "source": [
        "**Fisherface_LDA**"
      ],
      "metadata": {
        "id": "5M_7rKVbyhx3"
      }
    },
    {
      "cell_type": "code",
      "source": [
        "from sklearn.discriminant_analysis import LinearDiscriminantAnalysis as LDA\n",
        "lda = LDA(n_components= 14)\n",
        "X_train_LDA = lda.fit_transform(X_train_PCA, y_train)\n",
        "X_test_LDA = lda.transform(X_test_PCA)"
      ],
      "metadata": {
        "id": "N6jg-0ytGVE7"
      },
      "execution_count": 36,
      "outputs": []
    },
    {
      "cell_type": "code",
      "source": [
        "X_train_LDA.shape"
      ],
      "metadata": {
        "colab": {
          "base_uri": "https://localhost:8080/"
        },
        "id": "T7_3KyCYGVBg",
        "outputId": "7b540175-575d-4d6b-8efa-7a2a88aec373"
      },
      "execution_count": 37,
      "outputs": [
        {
          "output_type": "execute_result",
          "data": {
            "text/plain": [
              "(150, 14)"
            ]
          },
          "metadata": {},
          "execution_count": 37
        }
      ]
    },
    {
      "cell_type": "code",
      "source": [
        "from sklearn.neighbors import KNeighborsClassifier\n",
        "neigh = KNeighborsClassifier(n_neighbors=15)\n",
        "neigh.fit(X_train_LDA,y_train)"
      ],
      "metadata": {
        "colab": {
          "base_uri": "https://localhost:8080/"
        },
        "id": "MVRrctXWGU_Q",
        "outputId": "3b844661-38d7-49f8-c3f9-f910fe8c1ba5"
      },
      "execution_count": 38,
      "outputs": [
        {
          "output_type": "execute_result",
          "data": {
            "text/plain": [
              "KNeighborsClassifier(n_neighbors=15)"
            ]
          },
          "metadata": {},
          "execution_count": 38
        }
      ]
    },
    {
      "cell_type": "code",
      "source": [
        "fisherface_prediction=neigh.predict(X_test_LDA)"
      ],
      "metadata": {
        "id": "qlP5s7a5F7gO"
      },
      "execution_count": 39,
      "outputs": []
    },
    {
      "cell_type": "code",
      "source": [
        "fisherface_accuracy=sum((fisherface_prediction-y_test)==0)/len(fisherface_prediction-y_test)\n",
        "fisherface_accuracy"
      ],
      "metadata": {
        "colab": {
          "base_uri": "https://localhost:8080/"
        },
        "id": "bDcPrK_YU2hQ",
        "outputId": "63b3b737-5ab3-4b01-d1d5-379c2a15243c"
      },
      "execution_count": 40,
      "outputs": [
        {
          "output_type": "execute_result",
          "data": {
            "text/plain": [
              "1.0"
            ]
          },
          "metadata": {},
          "execution_count": 40
        }
      ]
    },
    {
      "cell_type": "code",
      "source": [
        "data = {'Clustering':0.6, 'Eigenfaces':0.8, 'Fisherfaces':1,\n",
        "        }\n",
        "methods = list(data.keys())\n",
        "accuracy = list(data.values())\n",
        "  \n",
        "fig = plt.figure(figsize = (10, 5))\n",
        " \n",
        "# creating the bar plot\n",
        "plt.bar(methods, accuracy, color ='orange',\n",
        "        width = 0.4)\n",
        " \n",
        "plt.xlabel(\"Recognition Algorithm\")\n",
        "plt.ylabel(\"Accuracy\")\n",
        "plt.title(\"Accuracy using Different Algorithm\")\n",
        "plt.show()"
      ],
      "metadata": {
        "id": "D8YKun6dU2dv",
        "colab": {
          "base_uri": "https://localhost:8080/",
          "height": 350
        },
        "outputId": "064f9463-c9e7-4229-87b3-a1a42db7a1d9"
      },
      "execution_count": 43,
      "outputs": [
        {
          "output_type": "display_data",
          "data": {
            "text/plain": [
              "<Figure size 720x360 with 1 Axes>"
            ],
            "image/png": "[encoded data removed]"
          },
          "metadata": {
            "needs_background": "light"
          }
        }
      ]
    },
    {
      "cell_type": "code",
      "source": [
        ""
      ],
      "metadata": {
        "id": "ZA3RblxqXbbU"
      },
      "execution_count": 40,
      "outputs": []
    }
  ]
}